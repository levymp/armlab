{
 "metadata": {
  "language_info": {
   "codemirror_mode": {
    "name": "ipython",
    "version": 3
   },
   "file_extension": ".py",
   "mimetype": "text/x-python",
   "name": "python",
   "nbconvert_exporter": "python",
   "pygments_lexer": "ipython3",
   "version": "3.8.5-final"
  },
  "orig_nbformat": 2,
  "kernelspec": {
   "name": "python3",
   "display_name": "Python 3"
  }
 },
 "nbformat": 4,
 "nbformat_minor": 2,
 "cells": [
  {
   "cell_type": "code",
   "execution_count": 1,
   "metadata": {},
   "outputs": [],
   "source": [
    "import numpy as np"
   ]
  },
  {
   "cell_type": "code",
   "execution_count": 2,
   "metadata": {},
   "outputs": [],
   "source": [
    "\n",
    "    def move(current_pose, future_pose, angular_v=np.pi/2, accel_percent=0.15):\n",
    "        '''\n",
    "        @brief      Calculates move time w/constant velocity\n",
    "        @param      current_pose                    current pose of robot\n",
    "        @param      future_pose                     future pose of robot\n",
    "        @return     (move_time, accel_time)         tuple move time and accel_time to achieve '''\n",
    "\n",
    "        # calculate all angle differences\n",
    "        differences = [abs(future_angle - current_angle) for current_angle, future_angle in zip(current_pose, future_pose)]\n",
    "        print(differences)\n",
    "        # calculate max difference\n",
    "        max_dif = max(differences)\n",
    "        print(max_dif)\n",
    "        # calculate move time\n",
    "        move_time = max_dif/angular_v\n",
    "        \n",
    "        # calculate acceleration time\n",
    "        accel_time = move_time * accel_percent\n",
    "        \n",
    "        return (move_time, accel_time)"
   ]
  },
  {
   "cell_type": "code",
   "execution_count": 3,
   "metadata": {},
   "outputs": [
    {
     "output_type": "stream",
     "name": "stdout",
     "text": [
      "[2.8025829792022705, 0.08897089026868343, 0.0015339851379394531, 0.9633399248123169, 0.09664082527160645]\n2.8025829792022705\n"
     ]
    },
    {
     "output_type": "execute_result",
     "data": {
      "text/plain": [
       "1.7841797382610074"
      ]
     },
     "metadata": {},
     "execution_count": 3
    }
   ],
   "source": [
    "# far off\n",
    "move_time, accel_time = move([1.3606410026550293, -0.004601942375302315, -0.09970875084400177, -0.6320000886917114, 1.448077917098999], [-1.4419419765472412, -0.09357283264398575, -0.10124273598194122, -1.5953400135040283, 1.5447187423706055])\n",
    "print(move_time + '\\t' + accel_time)"
   ]
  },
  {
   "cell_type": "code",
   "execution_count": 6,
   "metadata": {},
   "outputs": [
    {
     "output_type": "stream",
     "name": "stdout",
     "text": [
      "[0.013805866241455078, 0.013805827125906944, 0.02147572487592697, 1.3836506605148315, 0.0]\n1.3836506605148315\n"
     ]
    },
    {
     "output_type": "execute_result",
     "data": {
      "text/plain": [
       "0.44042968426660284"
      ]
     },
     "metadata": {},
     "execution_count": 6
    }
   ],
   "source": [
    "# close\n",
    "move_time, accel_time = move([1.3606410026550293, -0.004601942375302315, -0.09970875084400177, -0.6320000886917114, 1.448077917098999], [1.3468351364135742, -0.01840776950120926, -0.0782330259680748, -2.015650749206543, 1.448077917098999], angular_v=np.pi)\n",
    "print(move_time + '\\t' + accel_time)\n"
   ]
  },
  {
   "cell_type": "code",
   "execution_count": null,
   "metadata": {},
   "outputs": [],
   "source": []
  }
 ]
}